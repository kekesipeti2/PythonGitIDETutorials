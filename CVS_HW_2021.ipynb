{
  "cells": [
    {
      "cell_type": "markdown",
      "metadata": {
        "id": "Ul0rvDQ2ZtmZ"
      },
      "source": [
        "# **Computer Vision Systems Homework**\n",
        "\n",
        "**Dear fellow engineers!**\n",
        "\n",
        "The nice people of Sim City would like to welcome you in their humble town, which is built entirely from environmentally friendly, recyclable triangles and pixels. In their most recent town meeting, the people decided that it was time for Sim City to adopt self-driving vehicles, since apparently, they are all the craze in the real world. \n",
        "\n",
        "However, the people are worried that accidents caused by these cars would significantly increase the computational resources used by Sim City due to an increased respawn rate. Therefore, the good people of Sim City need **you** to develop an algorithm that can reliably detect and track all relevant objects around the vehicles.\n",
        "\n",
        "## **Basics**\n",
        "\n",
        "As mentioned before, your task is to develop an algorithm that can perform detection, tracking and segmentation tasks on synthetic images created using the [CARLA simulator](https://carla.org/). There are seven videos in total, all annotated with the correct results for most tasks. \n",
        "\n",
        "Your job is to develop algorithms that attempt to find the correct results for all images and then compare the results of your method with the correct answers. From this comparison you can calculate the average error or the average accuracy of your method. Since object detection in autonomous driving settings is a real-time task, you also need to evaluate the speed of your algorithm.\n",
        "\n",
        "## The setting\n",
        "\n",
        "The videos in the provided dataset are saved frame-by-frame, meaning for every frame your have access to the following data:\n",
        "\n",
        "* **Inputs:**\n",
        "    1. RGB frame (located in \"carla_images/rgb/[video_index]/[frame_number].jpg\" )\n",
        "    2. Depth frame (located in \"carla_images/depth/[video_index]/[frame_number].png\" ) This frame is the same size az the RGB frame, but contains the distance of the pixels from the camera in cm.\n",
        "    3. The example below contains the camera matrix values that you can use for converting [x, y, depth] points to 3D coordinates. Look up the pinhole camera equations below for help.\n",
        "* **Outputs:**\n",
        "    1. Freespace image (located in \"carla_images/seg/[video_index]/fs_[frame_number].png\" ) This is a binary image, were all the road pixels are 1, the rest is 0.\n",
        "    2. Semantic segmentation image (located in \"carla_images/seg/[video_index]/[frame_number].png\" ) A color image, showing the semantic label of each image. To use this with deep neural networks, first it has to be converted into a format, where the pixels are the semantic labels, not colors. This means the pixel values have to correspond to the specific label values that the given neural network uses.\n",
        "    3. Bounding box annotations (located in \"carla_images/annotation/[video_index]/[frame_number]_.txt\" ) This is a text file, where every row contains a detectable object (detectable objects are 0:cars, 1:trucks, 2:motorcycles, 3:bicycles, 4:pedestrians). The values of the detection are as follows: [class_index, BB_x, BB_y, BB_w, BB_h, BB3D_x1, BB3D_x2, BB3D_y1, BB3D_y2, BB3D_z1, BB3D_z2]. Below, you can find an example using these values.\n",
        "    4. The self-motion of the vehicle (located in \"carla_images/annotation/[video_index]/[frame_number]_.npy\" ) A binary file containing the matrix describing the 6DOF rigid transformation of the car relative to its position in the previous frame.\n",
        "\n",
        "## Tasks\n",
        "\n",
        "Using the datasets provided, you have to perform the following tasks:\n",
        "\n",
        "1. **2D Object Detection:** This task can be done with or without neural networks. You simply have to detect all 5 object types, provide accurate bounding boxes and class labels. You can initially use a pre-trained neural net, but for really great results it is recommended that you fine-tune using your own data (don't forget to do a train-validation split). You can also try and enhance the network performance by adding depth as an extra channel (note: this is difficult).\n",
        "\n",
        "2. **3D Object Detection:** This tasks has to be done **without** neural nets. Use the results of the 2D tasks (if not completed yet, you can use the correct outputs in the meanwhile) to compute the object locations in 3D relative to the car. Also try and track the objects on multiple frames and try to determine their velocity.\n",
        "\n",
        "3. **Semantic Segmentation:** Use a neural network to perform semantic segmentation on the RGB images. You can initially use a pre-trained network, but it is also recommended that you fine-tune using your own data, just like in the first task. Similarly, you can add the depth image as an extra feature either as an input channel, or as an input to the last layer (note: this is considerably easier to do here than in the first case).\n",
        "\n",
        "4. **Freespace Segmentation:** Use traditional methods (meaning you **can't** use neural nets here) to find pixels belonging to the road. Note, that the car is always in a fixed position and orientation relative to the ground plane, so this task is relatively easy to do using simply 3D geometry (simplified RANSAC-like methods).\n",
        "\n",
        "**Important**\n",
        "\n",
        "Each of the tasks described here is pretty hard, meaning you won't be able to do all of them perfectly. So your job is to do as many of these as you can, as well as you can.\n",
        "\n",
        "## Evaluation\n",
        "\n",
        "Your job is also to evaluate the reliability of your own algorithms. Here are some tips:\n",
        "\n",
        "1. If your train/fine-tune methods, make sure you always use a train-validation split. There are 9 videos in total, so 7-2 or 6-3 is reasonable. The individual videos are under different conditions (day/night, sunshine/rain, etc.), so make your both sets include a wide range of conditions.\n",
        "2. To measure the accuracy of your predicted 2D or 3D bounding boxes, the IoU (Intersection over Union) metric is recommended.\n",
        "3. A detection is accurate if the IoU is high enough and a class label is correct. To measure the performance of 2D detection, there are several useful metrics: Precision, Recall, F1-Score and mAP (mean Average Precision).\n",
        "4. For the segmentation-like tasks, pixel accuracy is the simplest metric (the % of pixels classified correctly), but it is not very good. I recommend that you use the IoU metric (first IoU values are computed for every class, and then averaged).\n",
        "5. For evaluating the speed of the methods, you can use the average time for processing a single frame. If you use tricks, where you only do certain computations for the first frame, then you can exclude the first frame from the average.\n",
        "\n",
        "## **Submission and Presentation**\n",
        "\n",
        "In the retake week (23.-27. May) there will be a special session, where the teams **give a short (10 minutes) presentation** about the work they completed. The presentation should focus on the method used and the results achieved. The teams will also have to **submit their code and a short (10-15 page) report** by the end of the retake week. \n",
        "\n",
        "The offered grade will be decided by a panel of lecturers involved in the course after hearing the presentation and inspecting the code and the report. Note, that in the case of a very low-quality submission, we may decide not to give an offered grade (this means you will have to take the final exam).\n",
        "\n",
        "Truly high quality homeworks can be carried on as individual research subjects for the Students' Scientific Conference (TDK).\n",
        "\n",
        "## Rules\n",
        "\n",
        "Here are some important rules and guidelines you have to follow:\n",
        "\n",
        "*   This work is to be done in groups of 4 people. You can do it with less if you feel confident, but not more.\n",
        "*   Forming/finding a group is your job. Once you have one, 1 person from the group should write me a message on teams with the names and Neptun codes of the members.\n",
        "*   You can opt out of the homework later. In this case you will need to take the midterm exam. If you signed up for the homework and then decide to opt out, let me know ASAP.\n",
        "\n",
        "## So, how should we do this?\n",
        "\n",
        "So, how can you do this homework, especially if you haven't done things like this before? Here are a few tips:\n",
        "\n",
        "### Environment\n",
        "\n",
        "For development IDE the easiest is to just use Google Colab. To do this you just have to solve the homework inside this notebook. This is the simplest solution, although it has one drawback: the Colab notebook has limited debugging capabilities.\n",
        "\n",
        "If you want something more powerful, I recommend the [PyCharm](https://www.jetbrains.com/pycharm/) IDE, which is a free and pretty powerful Python development tool.\n",
        "\n",
        "If you are planning to use PyCharm on Windows, you need to install a Python distribution, since Windows still doesn't come with one (it's 20 effing 22, Microsoft!). I recommend [Anaconda](https://www.anaconda.com/distribution/). Make sure you use Python 3.x and not 2.7.\n",
        "\n",
        "[Here's a tutorial on how to set it up.](https://www.youtube.com/watch?v=e53lRPmWrMI)\n",
        "\n",
        "### Collaboration within the team\n",
        "\n",
        "Since I would strongly discourage teams to collaborate physically in the current situation, I'd like to recommend some methods for remote collaboration.\n",
        "\n",
        "* First of all, use git or a similar version control tool to handle multiple team members working on the same project. \n",
        "* I strongly recommend creating a private repository for your homework on [Github](https://github.com/) (since you can add exactly 3 collaborators - including you that's a 4-person team). There, you can also create issues and other nice-to-have features to track your development. Getting some experience with version control is an absolute must for any engineer anyways.\n",
        "\n",
        "Here's a tutorial for git for those who never used something like this before.\n",
        "\n",
        "To use git from a GUI, I recommend [SmartGit](https://www.syntevo.com/smartgit/) or [Git Extensions](http://gitextensions.github.io/).\n",
        "\n",
        "**ProTip:** If you use a Colab notebook, make sure to clear the output cells (especially figures and images) before you commit. Otherwise you'll litter in your repository.\n",
        "\n",
        "[Here is an introduction to git](https://www.freecodecamp.org/news/learn-the-basics-of-git-in-under-10-minutes-da548267cc91/)\n",
        "\n",
        "### Further resources\n",
        "\n",
        "As this course uses the Python language, I highly recommend that you also use this language to do your homework. Here are some resources to get you started (Note: the practicals will also provide you with many of the basics, but they are still a few weeks away):\n",
        "\n",
        "[Python tutorials](https://docs.python.org/3/tutorial/)\n",
        "\n",
        "OpenCV: For basic computer vision and image processing\n",
        "\n",
        "[OpenCV tutorials](https://opencv-python-tutroals.readthedocs.io/en/latest/py_tutorials/py_tutorials.html)\n",
        "\n",
        "PyTorch: For deep learning\n",
        "\n",
        "[PyTorch tutorials](https://pytorch.org/tutorials/)\n",
        "\n",
        "\n"
      ]
    },
    {
      "cell_type": "markdown",
      "metadata": {
        "id": "UgWfyt5SdmUn"
      },
      "source": [
        "# Solution\n",
        "## Download dataset"
      ]
    },
    {
      "cell_type": "code",
      "execution_count": 2,
      "metadata": {
        "colab": {
          "base_uri": "https://localhost:8080/"
        },
        "id": "JpJi3x8AZtEV",
        "outputId": "d87ca850-3085-4141-d994-1436f12c0cb5"
      },
      "outputs": [
        {
          "name": "stderr",
          "output_type": "stream",
          "text": [
            "'wget' is not recognized as an internal or external command,\n",
            "operable program or batch file.\n",
            "'unzip' is not recognized as an internal or external command,\n",
            "operable program or batch file.\n",
            "rm: Carla_Videos.zip: No such file or directory\n"
          ]
        }
      ],
      "source": [
        "# Homework dataset\n",
        "!wget http://deeplearning.iit.bme.hu/Carla_Videos.zip\n",
        "!unzip -qq Carla_Videos.zip\n",
        "!rm Carla_Videos.zip"
      ]
    },
    {
      "cell_type": "markdown",
      "metadata": {
        "id": "OSTAlH8td3eD"
      },
      "source": [
        "## Folder example\n",
        "\n",
        "Get all subfolders in a directory\n",
        "\n",
        "```\n",
        "import os\n",
        "myFolderList = [f.path for f in os.scandir(path) if f.is_dir()]\n",
        "```\n",
        "\n",
        "Get all files with extension in a directory\n",
        "\n",
        "```\n",
        "import glob\n",
        "import re\n",
        "\n",
        "def sorted_nicely( l ):\n",
        "    \"\"\" Sort the given iterable in the way that humans expect.\"\"\"\n",
        "    convert = lambda text: int(text) if text.isdigit() else text\n",
        "    alphanum_key = lambda key: [ convert(c) for c in re.split('([0-9]+)', key) ]\n",
        "    return sorted(l, key = alphanum_key)\n",
        "\n",
        "names = sorted_nicely(glob.glob1(path, \"*.extension\"))\n",
        "```\n"
      ]
    },
    {
      "cell_type": "markdown",
      "metadata": {
        "id": "xHsh_dbNFQwR"
      },
      "source": [
        "## Pinhole camera equations\n",
        "\n",
        "This small example shows the relationship between the world coordinates $[x, y, z]$ and the projected image coordinates $[u, v]$ depending on the values in the camera matrix $A$.\n",
        "\n",
        "$$u = f_x\\frac{x}{z} + p_x$$\n",
        "\n",
        "$$v = f_y\\frac{-y}{z} + p_y$$\n",
        "\n",
        "$$A = \\begin{bmatrix} f_x & 0 & p_x \\\\ 0 & f_y & p_y \\\\ 0 & 0 & 1 \\end{bmatrix}$$"
      ]
    },
    {
      "cell_type": "markdown",
      "metadata": {
        "id": "aVZdwqSb7dyZ"
      },
      "source": [
        "### Display the first images"
      ]
    },
    {
      "cell_type": "code",
      "execution_count": 1,
      "metadata": {
        "colab": {
          "base_uri": "https://localhost:8080/",
          "height": 677
        },
        "id": "qNjLlbEl7hv_",
        "outputId": "b93bc270-fed3-4322-d749-2af5f0dbd5d4"
      },
      "outputs": [
        {
          "ename": "FileNotFoundError",
          "evalue": "carla_images/annotation/000/00_.txt not found.",
          "output_type": "error",
          "traceback": [
            "\u001b[1;31m---------------------------------------------------------------------------\u001b[0m",
            "\u001b[1;31mFileNotFoundError\u001b[0m                         Traceback (most recent call last)",
            "\u001b[1;32m~\\AppData\\Local\\Temp/ipykernel_15072/1688800368.py\u001b[0m in \u001b[0;36m<module>\u001b[1;34m\u001b[0m\n\u001b[0;32m     68\u001b[0m \u001b[1;33m\u001b[0m\u001b[0m\n\u001b[0;32m     69\u001b[0m \u001b[1;31m# Read annotations\u001b[0m\u001b[1;33m\u001b[0m\u001b[1;33m\u001b[0m\u001b[1;33m\u001b[0m\u001b[0m\n\u001b[1;32m---> 70\u001b[1;33m \u001b[0mlabels\u001b[0m \u001b[1;33m=\u001b[0m \u001b[0mnp\u001b[0m\u001b[1;33m.\u001b[0m\u001b[0mloadtxt\u001b[0m\u001b[1;33m(\u001b[0m\u001b[1;34m\"carla_images/annotation/000/00_.txt\"\u001b[0m\u001b[1;33m)\u001b[0m\u001b[1;33m\u001b[0m\u001b[1;33m\u001b[0m\u001b[0m\n\u001b[0m\u001b[0;32m     71\u001b[0m \u001b[0mpos\u001b[0m \u001b[1;33m=\u001b[0m \u001b[0mnp\u001b[0m\u001b[1;33m.\u001b[0m\u001b[0mload\u001b[0m\u001b[1;33m(\u001b[0m\u001b[1;34m\"carla_images/annotation/000/00_.npy\"\u001b[0m\u001b[1;33m)\u001b[0m\u001b[1;33m.\u001b[0m\u001b[0mreshape\u001b[0m\u001b[1;33m(\u001b[0m\u001b[1;33m(\u001b[0m\u001b[1;36m4\u001b[0m\u001b[1;33m,\u001b[0m\u001b[1;36m4\u001b[0m\u001b[1;33m)\u001b[0m\u001b[1;33m)\u001b[0m\u001b[1;33m\u001b[0m\u001b[1;33m\u001b[0m\u001b[0m\n\u001b[0;32m     72\u001b[0m \u001b[1;33m\u001b[0m\u001b[0m\n",
            "\u001b[1;32m~\\anaconda3\\envs\\acer\\lib\\site-packages\\numpy\\lib\\npyio.py\u001b[0m in \u001b[0;36mloadtxt\u001b[1;34m(fname, dtype, comments, delimiter, converters, skiprows, usecols, unpack, ndmin, encoding, max_rows, like)\u001b[0m\n\u001b[0;32m   1040\u001b[0m             \u001b[0mfname\u001b[0m \u001b[1;33m=\u001b[0m \u001b[0mos_fspath\u001b[0m\u001b[1;33m(\u001b[0m\u001b[0mfname\u001b[0m\u001b[1;33m)\u001b[0m\u001b[1;33m\u001b[0m\u001b[1;33m\u001b[0m\u001b[0m\n\u001b[0;32m   1041\u001b[0m         \u001b[1;32mif\u001b[0m \u001b[0m_is_string_like\u001b[0m\u001b[1;33m(\u001b[0m\u001b[0mfname\u001b[0m\u001b[1;33m)\u001b[0m\u001b[1;33m:\u001b[0m\u001b[1;33m\u001b[0m\u001b[1;33m\u001b[0m\u001b[0m\n\u001b[1;32m-> 1042\u001b[1;33m             \u001b[0mfh\u001b[0m \u001b[1;33m=\u001b[0m \u001b[0mnp\u001b[0m\u001b[1;33m.\u001b[0m\u001b[0mlib\u001b[0m\u001b[1;33m.\u001b[0m\u001b[0m_datasource\u001b[0m\u001b[1;33m.\u001b[0m\u001b[0mopen\u001b[0m\u001b[1;33m(\u001b[0m\u001b[0mfname\u001b[0m\u001b[1;33m,\u001b[0m \u001b[1;34m'rt'\u001b[0m\u001b[1;33m,\u001b[0m \u001b[0mencoding\u001b[0m\u001b[1;33m=\u001b[0m\u001b[0mencoding\u001b[0m\u001b[1;33m)\u001b[0m\u001b[1;33m\u001b[0m\u001b[1;33m\u001b[0m\u001b[0m\n\u001b[0m\u001b[0;32m   1043\u001b[0m             \u001b[0mfencoding\u001b[0m \u001b[1;33m=\u001b[0m \u001b[0mgetattr\u001b[0m\u001b[1;33m(\u001b[0m\u001b[0mfh\u001b[0m\u001b[1;33m,\u001b[0m \u001b[1;34m'encoding'\u001b[0m\u001b[1;33m,\u001b[0m \u001b[1;34m'latin1'\u001b[0m\u001b[1;33m)\u001b[0m\u001b[1;33m\u001b[0m\u001b[1;33m\u001b[0m\u001b[0m\n\u001b[0;32m   1044\u001b[0m             \u001b[0mline_iter\u001b[0m \u001b[1;33m=\u001b[0m \u001b[0miter\u001b[0m\u001b[1;33m(\u001b[0m\u001b[0mfh\u001b[0m\u001b[1;33m)\u001b[0m\u001b[1;33m\u001b[0m\u001b[1;33m\u001b[0m\u001b[0m\n",
            "\u001b[1;32m~\\anaconda3\\envs\\acer\\lib\\site-packages\\numpy\\lib\\_datasource.py\u001b[0m in \u001b[0;36mopen\u001b[1;34m(path, mode, destpath, encoding, newline)\u001b[0m\n\u001b[0;32m    191\u001b[0m \u001b[1;33m\u001b[0m\u001b[0m\n\u001b[0;32m    192\u001b[0m     \u001b[0mds\u001b[0m \u001b[1;33m=\u001b[0m \u001b[0mDataSource\u001b[0m\u001b[1;33m(\u001b[0m\u001b[0mdestpath\u001b[0m\u001b[1;33m)\u001b[0m\u001b[1;33m\u001b[0m\u001b[1;33m\u001b[0m\u001b[0m\n\u001b[1;32m--> 193\u001b[1;33m     \u001b[1;32mreturn\u001b[0m \u001b[0mds\u001b[0m\u001b[1;33m.\u001b[0m\u001b[0mopen\u001b[0m\u001b[1;33m(\u001b[0m\u001b[0mpath\u001b[0m\u001b[1;33m,\u001b[0m \u001b[0mmode\u001b[0m\u001b[1;33m,\u001b[0m \u001b[0mencoding\u001b[0m\u001b[1;33m=\u001b[0m\u001b[0mencoding\u001b[0m\u001b[1;33m,\u001b[0m \u001b[0mnewline\u001b[0m\u001b[1;33m=\u001b[0m\u001b[0mnewline\u001b[0m\u001b[1;33m)\u001b[0m\u001b[1;33m\u001b[0m\u001b[1;33m\u001b[0m\u001b[0m\n\u001b[0m\u001b[0;32m    194\u001b[0m \u001b[1;33m\u001b[0m\u001b[0m\n\u001b[0;32m    195\u001b[0m \u001b[1;33m\u001b[0m\u001b[0m\n",
            "\u001b[1;32m~\\anaconda3\\envs\\acer\\lib\\site-packages\\numpy\\lib\\_datasource.py\u001b[0m in \u001b[0;36mopen\u001b[1;34m(self, path, mode, encoding, newline)\u001b[0m\n\u001b[0;32m    530\u001b[0m                                       encoding=encoding, newline=newline)\n\u001b[0;32m    531\u001b[0m         \u001b[1;32melse\u001b[0m\u001b[1;33m:\u001b[0m\u001b[1;33m\u001b[0m\u001b[1;33m\u001b[0m\u001b[0m\n\u001b[1;32m--> 532\u001b[1;33m             \u001b[1;32mraise\u001b[0m \u001b[0mFileNotFoundError\u001b[0m\u001b[1;33m(\u001b[0m\u001b[1;34mf\"{path} not found.\"\u001b[0m\u001b[1;33m)\u001b[0m\u001b[1;33m\u001b[0m\u001b[1;33m\u001b[0m\u001b[0m\n\u001b[0m\u001b[0;32m    533\u001b[0m \u001b[1;33m\u001b[0m\u001b[0m\n\u001b[0;32m    534\u001b[0m \u001b[1;33m\u001b[0m\u001b[0m\n",
            "\u001b[1;31mFileNotFoundError\u001b[0m: carla_images/annotation/000/00_.txt not found."
          ]
        }
      ],
      "source": [
        "import pickle\n",
        "import cv2\n",
        "import matplotlib.pyplot as plt\n",
        "import numpy as np\n",
        "#This way it doesn't try to open a window un the GUI - works in python notebook\n",
        "%matplotlib inline\n",
        "\n",
        "cam_mtx = np.array([\n",
        "    [358.5, 0.0,   512.0],\n",
        "    [0.0,   358.5, 256.0],\n",
        "    [0.0,   0.0,   1.0],\n",
        "    \n",
        "])\n",
        "\n",
        "colors = [(0,0,255), (0,255,0), (255,0,255), (0,255,255), (255,0,0)]\n",
        "classNames = [\"Car\", \"Truck\", \"Motorcycle\", \"Bicycle\", \"Pedestrian\"]\n",
        "\n",
        "'''\n",
        "The key element of this dictionary is the semantic ID of a class you can use with\n",
        "neural networks, while the value is the RGB color used in the images.\n",
        "'''\n",
        "semSegClasses = {  \n",
        "     0: [0, 0, 0],         # None \n",
        "     1: [70, 70, 70],      # Buildings \n",
        "     2: [190, 153, 153],   # Fences \n",
        "     3: [72, 0, 90],       # Other \n",
        "     4: [220, 20, 60],     # Pedestrians \n",
        "     5: [153, 153, 153],   # Poles \n",
        "     6: [157, 234, 50],    # RoadLines \n",
        "     7: [128, 64, 128],    # Roads \n",
        "     8: [244, 35, 232],    # Sidewalks \n",
        "     9: [107, 142, 35],    # Vegetation \n",
        "     10: [0, 0, 255],      # Vehicles \n",
        "     11: [102, 102, 156],  # Walls \n",
        "     12: [220, 220, 0]     # TrafficSigns \n",
        " } \n",
        "\n",
        "def drawBBs(BBs, img):\n",
        "    H, W = img.shape[:2]\n",
        "    for BB in BBs:\n",
        "        u = BB[1]*W\n",
        "        v = BB[2]*H\n",
        "        w = BB[3]*W\n",
        "        h = BB[4]*H\n",
        "        c = int(BB[0])\n",
        "        x_min = BB[5]\n",
        "        x_max = BB[6]\n",
        "        y_min = BB[5]\n",
        "        y_max = BB[6]\n",
        "        z_min = BB[5]\n",
        "        z_max = BB[6]\n",
        "        s = (int(u - w // 2), int(v - h // 2))\n",
        "        e = (int(u + w // 2), int(v + h // 2))\n",
        "        cv2.rectangle(img, s, e, colors[c], 1)\n",
        "        tl = (s[0], s[1]+15)\n",
        "        bl = (s[0], e[1]-5)\n",
        "        cv2.putText(img,classNames[c],tl,cv2.FONT_HERSHEY_COMPLEX_SMALL,0.75,colors[c])\n",
        "        #coords = \"(%.2f, %.2f, %.2f, %.2f, %.2f, %.2f)\" % (x_min, x_max, y_min, y_max, z_min, z_max)\n",
        "        #cv2.putText(img,coords,bl,cv2.FONT_HERSHEY_COMPLEX_SMALL,0.65,colors[c])\n",
        "    \n",
        "    return img\n",
        "\n",
        "# Read images\n",
        "img = cv2.imread(\"carla_images/rgb/000/00.jpg\")\n",
        "depth = cv2.imread(\"carla_images/depth/000/00.png\", -1)\n",
        "seg = cv2.imread(\"carla_images/seg/000/00.png\")\n",
        "fs = cv2.imread(\"carla_images/seg/000/fs_00.png\", -1)\n",
        "\n",
        "# Read annotations\n",
        "labels = np.loadtxt(\"carla_images/annotation/000/00_.txt\")\n",
        "pos = np.load(\"carla_images/annotation/000/00_.npy\").reshape((4,4))\n",
        "\n",
        "# Visualization\n",
        "img = drawBBs(labels, img)\n",
        "img_rgb = cv2.cvtColor(img,cv2.COLOR_BGR2RGB)\n",
        "seg_rgb = cv2.cvtColor(seg,cv2.COLOR_BGR2RGB)\n",
        "\n",
        "# Figure with subplots\n",
        "plt.figure(figsize=(30,15))\n",
        "plt.subplot(2,2,1)\n",
        "plt.imshow(img_rgb)\n",
        "plt.subplot(2,2,2)\n",
        "plt.imshow(depth,cmap='gray')\n",
        "plt.subplot(2,2,3)\n",
        "plt.imshow(seg_rgb)\n",
        "plt.subplot(2,2,4)\n",
        "plt.imshow(fs,cmap='gray')"
      ]
    },
    {
      "cell_type": "markdown",
      "metadata": {
        "id": "fOTJfoULdtTy"
      },
      "source": [
        "# Your Work"
      ]
    },
    {
      "cell_type": "code",
      "execution_count": null,
      "metadata": {
        "id": "28EXqOnb0b-M"
      },
      "outputs": [],
      "source": [
        "\n"
      ]
    }
  ],
  "metadata": {
    "accelerator": "GPU",
    "colab": {
      "collapsed_sections": [],
      "name": "CVS_HW_2021.ipynb",
      "provenance": [],
      "toc_visible": true
    },
    "kernelspec": {
      "display_name": "Python 3",
      "name": "python3"
    },
    "language_info": {
      "codemirror_mode": {
        "name": "ipython",
        "version": 3
      },
      "file_extension": ".py",
      "mimetype": "text/x-python",
      "name": "python",
      "nbconvert_exporter": "python",
      "pygments_lexer": "ipython3",
      "version": "3.8.12"
    }
  },
  "nbformat": 4,
  "nbformat_minor": 0
}
